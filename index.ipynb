{
 "cells": [
  {
   "cell_type": "code",
   "execution_count": 11,
   "metadata": {
    "scrolled": false
   },
   "outputs": [
    {
     "data": {
      "application/vnd.jupyter.widget-view+json": {
       "model_id": "a032f0fd5e104725bf0e5a8409e86dbd",
       "version_major": 2,
       "version_minor": 0
      },
      "text/plain": [
       "FileUpload(value={}, description='Upload')"
      ]
     },
     "metadata": {},
     "output_type": "display_data"
    }
   ],
   "source": [
    "from operator import itemgetter\n",
    "from datetime import timedelta\n",
    "import datetime\n",
    "\n",
    "from itertools import groupby\n",
    "from icalendar import Calendar\n",
    "\n",
    "import ipywidgets as widgets\n",
    "\n",
    "parcours_dict = {\"Gr302\": \"AII\",\n",
    "\"Gr303\": \"AII\",\n",
    "\"Gr304\": \"AII\",\n",
    "\"Gr305\": \"EME\",\n",
    "\"Gr306\": \"EME\",\n",
    "\"Gr307\": \"ESE\",\n",
    "\"Gr308\": \"ESE\"\n",
    "}\n",
    "\n",
    "lectures = ['AG', 'PApp1', 'PAPP3', 'OML3', 'R11', 'AM10', 'AM11', 'IU-1', 'IU1', 'SCOT']\n",
    "parcours = ['AII', 'EME', 'ESE']\n",
    "\n",
    "def validate_date(date_text):\n",
    "    try:\n",
    "        datetime.datetime.strptime(date_text, '%Y-%m-%d')\n",
    "        return True\n",
    "    except ValueError:\n",
    "        raise ValueError(\"Incorrect data format, should be YYYY-MM-DD\")\n",
    "        return False\n",
    "\n",
    "def calculate_time(event):\n",
    "    start = event['DTSTART'].dt\n",
    "    end = event['DTEND'].dt\n",
    "    return end - start\n",
    "\n",
    "def lecturize(event, lectures):\n",
    "    summary = str(event['SUMMARY'])\n",
    "    return [lecture for lecture in lectures if lecture in summary]\n",
    "\n",
    "def time_per_lecture_old(events):\n",
    "    lecture_name = itemgetter(0)\n",
    "    sorted_events = sorted(events, key=lecture_name)\n",
    "\n",
    "    for key, group in groupby(sorted_events, lecture_name):\n",
    "        #print(sum(map(itemgetter(1), group), timedelta()))\n",
    "        yield (tuple(key), sum(map(itemgetter(1), group), timedelta()))\n",
    "\n",
    "def parcourize(event, parcours_dict):\n",
    "    \"\"\"associate a parcours (AII, EME or ESE) to each lecture\"\"\"\n",
    "    DESCRIPTION = str(event['DESCRIPTION'])\n",
    "    group = DESCRIPTION.split(\"\\n\")[2]\n",
    "    test = group in parcours_dict.keys()\n",
    "\n",
    "    if group in parcours_dict.keys():\n",
    "        track = parcours_dict[group]\n",
    "    else:\n",
    "        track = \"BUT1\"\n",
    "    return track\n",
    "\n",
    "def time_per_lecture(events):\n",
    "    sorted_events = sorted(events, key=itemgetter(0, 2))\n",
    "    for (lecture_name, parcours), batch in groupby(sorted_events, key=itemgetter(0, 2)):\n",
    "        yield (parcours, lecture_name, sum(map(itemgetter(1), batch), timedelta()) )\n",
    "\n",
    "        \n",
    "def naive_event_datetime(ev, date_format_str):\n",
    "    event_datetime = datetime.datetime.strptime(ev['DTSTART'].dt.strftime(date_format_str), date_format_str)\n",
    "    return event_datetime\n",
    "\n",
    "\n",
    "uploader = widgets.FileUpload()\n",
    "display(uploader)\n",
    "\n",
    "out = widgets.Output(layout={'border': '1px solid black'})\n",
    "out.append_stdout(\"Cliquer sur le bouton et sélectionner votre fichier .ics extrait à partir d'ADE.\"+\"\\n\")\n",
    "\n",
    "@out.capture(clear_output=True)\n",
    "def run(change):\n",
    "    \n",
    "    # Create a calendar object using the uploaded file\n",
    "    for k in uploader.value:\n",
    "        out.append_stdout(k)\n",
    "        for el in k:\n",
    "            print(el)\n",
    "            print(\"ok\")\n",
    "        \n",
    "    k = list(uploader.value.keys())[-1]\n",
    "    file_read = uploader.value[k][\"content\"]\n",
    "    #print(file_read)\n",
    "    out.append_stdout(file_read)\n",
    "    cal = Calendar.from_ical(file_read)\n",
    "\n",
    "    # create the list of tuples (lecture_event, time) from the calendar\n",
    "    sessions = [(lecturize(e, lectures), calculate_time(e), parcourize(e, parcours_dict)) for e in cal.walk('vevent')]\n",
    "    \n",
    "    # Create a generator to group the amount of time per lecture type\n",
    "    used_time = time_per_lecture(sessions)\n",
    "\n",
    "    # Sum the entire amount of time including all lectures\n",
    "    total_time = 0\n",
    "    for el in used_time:\n",
    "        track = el[0]\n",
    "        lecture = el[1]\n",
    "        duration = el[2]\n",
    "        total_time += duration.total_seconds() / 3600\n",
    "        out.append_stdout('parcours {} module {} : \\t{}h'.format(track, lecture, duration.total_seconds() / 3600)+\"\\n\")\n",
    "\n",
    "    out.append_stdout('============='+\"\\n\")\n",
    "    out.append_stdout('TOTAL\\t{}h'.format(total_time)+\"\\n\")\n",
    "    \n",
    "    \n",
    "uploader.observe(run, names=\"value\")\n",
    "\n"
   ]
  },
  {
   "cell_type": "code",
   "execution_count": 12,
   "metadata": {},
   "outputs": [
    {
     "data": {
      "application/vnd.jupyter.widget-view+json": {
       "model_id": "fd0cb9f3580247b8b663c722d4f538fc",
       "version_major": 2,
       "version_minor": 0
      },
      "text/plain": [
       "Output(layout=Layout(border='1px solid black'), outputs=({'output_type': 'stream', 'name': 'stdout', 'text': \"…"
      ]
     },
     "metadata": {},
     "output_type": "display_data"
    }
   ],
   "source": [
    "out"
   ]
  },
  {
   "cell_type": "code",
   "execution_count": null,
   "metadata": {},
   "outputs": [],
   "source": []
  }
 ],
 "metadata": {
  "kernelspec": {
   "display_name": "Python 3",
   "language": "python",
   "name": "python3"
  },
  "language_info": {
   "codemirror_mode": {
    "name": "ipython",
    "version": 3
   },
   "file_extension": ".py",
   "mimetype": "text/x-python",
   "name": "python",
   "nbconvert_exporter": "python",
   "pygments_lexer": "ipython3",
   "version": "3.6.9"
  }
 },
 "nbformat": 4,
 "nbformat_minor": 2
}
