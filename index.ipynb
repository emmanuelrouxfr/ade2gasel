{
 "cells": [
  {
   "cell_type": "code",
   "execution_count": 5,
   "metadata": {
    "scrolled": false
   },
   "outputs": [
    {
     "data": {
      "application/vnd.jupyter.widget-view+json": {
       "model_id": "80e1ab33722748319b92fade40e9486b",
       "version_major": 2,
       "version_minor": 0
      },
      "text/plain": [
       "FileUpload(value={}, description='Upload')"
      ]
     },
     "metadata": {},
     "output_type": "display_data"
    }
   ],
   "source": [
    "from operator import itemgetter\n",
    "from datetime import timedelta\n",
    "import datetime\n",
    "\n",
    "from itertools import groupby\n",
    "from icalendar import Calendar\n",
    "\n",
    "import ipywidgets as widgets\n",
    "\n",
    "parcours_dict = {\n",
    "\n",
    "\"G101\": \"BUT1 : code B1BUE11\",\n",
    "\"G102\": \"BUT1 : code B1BUE11\",\n",
    "\"G103\": \"BUT1 : code B1BUE11\",\n",
    "\"G104\": \"BUT1 : code B1BUE11\",\n",
    "\"G105\": \"BUT1 : code B1BUE11\",\n",
    "\"G106\": \"BUT1 : code B1BUE11\",\n",
    "\"G107\": \"BUT1 : code B1BUE11\",\n",
    "\"G108\": \"BUT1 : code B1BUE11\",\n",
    "    \n",
    "    \n",
    "\"G101A\": \"BUT1 : code B1BUE11\",\n",
    "\"G102A\": \"BUT1 : code B1BUE11\",\n",
    "\"G103A\": \"BUT1 : code B1BUE11\",\n",
    "\"G104A\": \"BUT1 : code B1BUE11\",\n",
    "\"G105A\": \"BUT1 : code B1BUE11\",\n",
    "\"G106A\": \"BUT1 : code B1BUE11\",\n",
    "\"G107A\": \"BUT1 : code B1BUE11\",\n",
    "\"G108A\": \"BUT1 : code B1BUE11\",\n",
    "    \n",
    "    \n",
    "\"G101B\": \"BUT1 : code B1BUE11\",\n",
    "\"G102B\": \"BUT1 : code B1BUE11\",\n",
    "\"G103B\": \"BUT1 : code B1BUE11\",\n",
    "\"G104B\": \"BUT1 : code B1BUE11\",\n",
    "\"G105B\": \"BUT1 : code B1BUE11\",\n",
    "\"G106B\": \"BUT1 : code B1BUE11\",\n",
    "\"G107B\": \"BUT1 : code B1BUE11\",\n",
    "\"G108B\": \"BUT1 : code B1BUE11\",\n",
    "    \n",
    "\"Gr101\": \"BUT1 : code B1BUE11\",\n",
    "\"Gr102\": \"BUT1 : code B1BUE11\",\n",
    "\"Gr103\": \"BUT1 : code B1BUE11\",\n",
    "\"Gr104\": \"BUT1 : code B1BUE11\",\n",
    "\"Gr105\": \"BUT1 : code B1BUE11\",\n",
    "\"Gr106\": \"BUT1 : code B1BUE11\",\n",
    "\"Gr107\": \"BUT1 : code B1BUE11\",\n",
    "\"Gr108\": \"BUT1 : code B1BUE11\",\n",
    "    \n",
    "    \n",
    "\"G302\": \"BUT2 AII B1BUE312\",\n",
    "\"G303\": \"BUT2 AII B1BUE312\",\n",
    "\"G304\": \"BUT2 AII B1BUE312\",\n",
    "\"G305\": \"BUT2 EME B1BUE311\",\n",
    "\"G306\": \"BUT2 EME B1BUE311\",\n",
    "\"G307\": \"BUT2 ESE B1BUE313\",\n",
    "\"G308\": \"BUT2 ESE B1BUE313\",\n",
    "    \n",
    "\"G302A\": \"BUT2 AII B1BUE312\",\n",
    "\"G303A\": \"BUT2 AII B1BUE312\",\n",
    "\"G304A\": \"BUT2 AII B1BUE312\",\n",
    "\"G305A\": \"BUT2 EME B1BUE311\",\n",
    "\"G306A\": \"BUT2 EME B1BUE311\",\n",
    "\"G307A\": \"BUT2 ESE B1BUE313\",\n",
    "\"G308A\": \"BUT2 ESE B1BUE313\",\n",
    "    \n",
    "\"G302B\": \"BUT2 AII B1BUE312\",\n",
    "\"G303B\": \"BUT2 AII B1BUE312\",\n",
    "\"G304B\": \"BUT2 AII B1BUE312\",\n",
    "\"G305B\": \"BUT2 EME B1BUE311\",\n",
    "\"G306B\": \"BUT2 EME B1BUE311\",\n",
    "\"G307B\": \"BUT2 ESE B1BUE313\",\n",
    "\"G308B\": \"BUT2 ESE B1BUE313\",\n",
    "   \n",
    "\"Gr302\": \"BUT2 AII B1BUE312\",\n",
    "\"Gr303\": \"BUT2 AII B1BUE312\",\n",
    "\"Gr304\": \"BUT2 AII B1BUE312\",\n",
    "\"Gr305\": \"BUT2 EME B1BUE311\",\n",
    "\"Gr306\": \"BUT2 EME B1BUE311\",\n",
    "\"Gr307\": \"BUT2 ESE B1BUE313\",\n",
    "\"Gr308\": \"BUT2 ESE B1BUE313\",\n",
    "\"Gr306-Gr308\": \"BUT2 ESE B1BUE313\",            \n",
    "\"Gr503\": \"BUT3 AII code : B1BUE512\",                 \n",
    "\"Gr508\": \"BUT3 ESE code: B1BUE513\",\n",
    "\"Groupe TD EME\": \"BUT3 EME code: B1BUE511\"  \n",
    "    \n",
    " }\n",
    "\n",
    "#parcours = ['AII', 'EME', 'ESE']\n",
    "\n",
    "def validate_date(date_text):\n",
    "    try:\n",
    "        datetime.datetime.strptime(date_text, '%Y-%m-%d')\n",
    "        return True\n",
    "    except ValueError:\n",
    "        raise ValueError(\"Incorrect data format, should be YYYY-MM-DD\")\n",
    "        return False\n",
    "\n",
    "def calculate_time(event):\n",
    "    start = event['DTSTART'].dt\n",
    "    end = event['DTEND'].dt\n",
    "    return end - start\n",
    "\n",
    "def lecturize(event):\n",
    "    summary = str(event['SUMMARY'])\n",
    "    return summary\n",
    "\n",
    "def time_per_lecture_old(events):\n",
    "    lecture_name = itemgetter(0)\n",
    "    sorted_events = sorted(events, key=lecture_name)\n",
    "\n",
    "    for key, group in groupby(sorted_events, lecture_name):\n",
    "        #print(sum(map(itemgetter(1), group), timedelta()))\n",
    "        yield (tuple(key), sum(map(itemgetter(1), group), timedelta()))\n",
    "\n",
    "def parcourize(event, parcours_dict):\n",
    "    \"\"\"associate a parcours (AII, EME or ESE) to each lecture\"\"\"\n",
    "    DESCRIPTION = str(event['DESCRIPTION'])\n",
    "    group = DESCRIPTION.split(\"\\n\")[2]\n",
    "    test = group in parcours_dict.keys()\n",
    "\n",
    "    if group in parcours_dict.keys():\n",
    "        track = parcours_dict[group]\n",
    "        \n",
    "    #elif [k+\"A\" for k in parcours_dict.keys()] or [k+\"B\" for k in parcours_dict.keys()]:\n",
    "     #   print(group[:-1])\n",
    "      #  track = parcours_dict[group[:-1]]\n",
    "    else:        \n",
    "        track = \"! check code ! \" + group\n",
    "    return track\n",
    "\n",
    "def time_per_lecture(events):\n",
    "    sorted_events = sorted(events, key=itemgetter(2, 0))\n",
    "    for (lecture_name, parcours), batch in groupby(sorted_events, key=itemgetter(0, 2)):\n",
    "        yield (parcours, lecture_name, sum(map(itemgetter(1), batch), timedelta()) )\n",
    "\n",
    "        \n",
    "def naive_event_datetime(ev, date_format_str):\n",
    "    event_datetime = datetime.datetime.strptime(ev['DTSTART'].dt.strftime(date_format_str), date_format_str)\n",
    "    return event_datetime\n",
    "\n",
    "\n",
    "uploader = widgets.FileUpload()\n",
    "display(uploader)\n",
    "\n",
    "out = widgets.Output(layout={'border': '1px solid black'})\n",
    "out.append_stdout(\"Cliquer sur le bouton et sélectionner votre fichier .ics extrait à partir d'ADE.\"+\"\\n\")\n",
    "\n",
    "@out.capture(clear_output=True)\n",
    "def run(change):\n",
    "\n",
    "    for mybunch in uploader.value:\n",
    "        mybunch_decoded = bytes(uploader.value[mybunch][\"content\"])\n",
    "    \n",
    "    cal = Calendar.from_ical(mybunch_decoded)\n",
    "\n",
    "    # create the list of tuples (lecture_event, time, parcours) from the calendar\n",
    "    sessions = [(lecturize(e), calculate_time(e), parcourize(e, parcours_dict)) for e in cal.walk('vevent')]\n",
    "    \n",
    "    # Create a generator to group the amount of time per lecture type\n",
    "    used_time = time_per_lecture(sessions)\n",
    "\n",
    "    # Sum the entire amount of time including all lectures\n",
    "    total_time = 0\n",
    "    for el in used_time:\n",
    "        \n",
    "        track = el[0]\n",
    "        lecture = el[1]\n",
    "        duration = el[2]\n",
    "        total_time += duration.total_seconds() / 3600\n",
    "        out.append_stdout('parcours {} module {} : \\t{}h'.format(track, lecture, duration.total_seconds() / 3600)+\"\\n\")\n",
    "\n",
    "    out.append_stdout('============='+\"\\n\")\n",
    "    #out.append_stdout('TOTAL\\t{}h'.format(total_time)+\"\\n\")\n",
    "    \n",
    "    \n",
    "uploader.observe(run, names=\"value\")\n",
    "\n"
   ]
  },
  {
   "cell_type": "code",
   "execution_count": 6,
   "metadata": {},
   "outputs": [
    {
     "data": {
      "application/vnd.jupyter.widget-view+json": {
       "model_id": "aef842b0e82748a2b199e4d68cf44604",
       "version_major": 2,
       "version_minor": 0
      },
      "text/plain": [
       "Output(layout=Layout(border='1px solid black'))"
      ]
     },
     "metadata": {},
     "output_type": "display_data"
    }
   ],
   "source": [
    "out"
   ]
  },
  {
   "cell_type": "code",
   "execution_count": 16,
   "metadata": {},
   "outputs": [
    {
     "data": {
      "text/plain": [
       "dict_keys(['ADECal.ics'])"
      ]
     },
     "execution_count": 16,
     "metadata": {},
     "output_type": "execute_result"
    }
   ],
   "source": [
    "print(\"\")"
   ]
  },
  {
   "cell_type": "code",
   "execution_count": 10,
   "metadata": {},
   "outputs": [
    {
     "ename": "TypeError",
     "evalue": "string indices must be integers",
     "output_type": "error",
     "traceback": [
      "\u001b[1;31m---------------------------------------------------------------------------\u001b[0m",
      "\u001b[1;31mTypeError\u001b[0m                                 Traceback (most recent call last)",
      "\u001b[1;32m<ipython-input-10-ede2fb6ffafe>\u001b[0m in \u001b[0;36m<module>\u001b[1;34m\u001b[0m\n\u001b[0;32m      1\u001b[0m \u001b[1;32mfor\u001b[0m \u001b[0mmybunch\u001b[0m \u001b[1;32min\u001b[0m \u001b[0muploader\u001b[0m\u001b[1;33m.\u001b[0m\u001b[0mvalue\u001b[0m\u001b[1;33m:\u001b[0m\u001b[1;33m\u001b[0m\u001b[1;33m\u001b[0m\u001b[0m\n\u001b[1;32m----> 2\u001b[1;33m     \u001b[0mprint\u001b[0m\u001b[1;33m(\u001b[0m\u001b[0mmybunch\u001b[0m\u001b[1;33m[\u001b[0m\u001b[1;34m\"content\"\u001b[0m\u001b[1;33m]\u001b[0m\u001b[1;33m)\u001b[0m\u001b[1;33m\u001b[0m\u001b[1;33m\u001b[0m\u001b[0m\n\u001b[0m\u001b[0;32m      3\u001b[0m     \u001b[0minput\u001b[0m\u001b[1;33m(\u001b[0m\u001b[1;33m)\u001b[0m\u001b[1;33m\u001b[0m\u001b[1;33m\u001b[0m\u001b[0m\n\u001b[0;32m      4\u001b[0m     \u001b[1;31m#mybunch_decoded = bytes(mybunch[\"content\"])\u001b[0m\u001b[1;33m\u001b[0m\u001b[1;33m\u001b[0m\u001b[1;33m\u001b[0m\u001b[0m\n",
      "\u001b[1;31mTypeError\u001b[0m: string indices must be integers"
     ]
    }
   ],
   "source": []
  },
  {
   "cell_type": "code",
   "execution_count": 25,
   "metadata": {},
   "outputs": [],
   "source": []
  },
  {
   "cell_type": "code",
   "execution_count": 30,
   "metadata": {},
   "outputs": [
    {
     "name": "stdout",
     "output_type": "stream",
     "text": [
      "ADECal.ics\n"
     ]
    },
    {
     "ename": "TypeError",
     "evalue": "string indices must be integers",
     "output_type": "error",
     "traceback": [
      "\u001b[1;31m---------------------------------------------------------------------------\u001b[0m",
      "\u001b[1;31mTypeError\u001b[0m                                 Traceback (most recent call last)",
      "\u001b[1;32m<ipython-input-30-180514234a34>\u001b[0m in \u001b[0;36m<module>\u001b[1;34m\u001b[0m\n\u001b[0;32m      1\u001b[0m \u001b[1;32mfor\u001b[0m \u001b[0mmybunch\u001b[0m \u001b[1;32min\u001b[0m \u001b[0muploader\u001b[0m\u001b[1;33m.\u001b[0m\u001b[0mvalue\u001b[0m\u001b[1;33m:\u001b[0m\u001b[1;33m\u001b[0m\u001b[1;33m\u001b[0m\u001b[0m\n\u001b[0;32m      2\u001b[0m     \u001b[0mprint\u001b[0m\u001b[1;33m(\u001b[0m\u001b[0mmybunch\u001b[0m\u001b[1;33m)\u001b[0m\u001b[1;33m\u001b[0m\u001b[1;33m\u001b[0m\u001b[0m\n\u001b[1;32m----> 3\u001b[1;33m     \u001b[0mmybunch_decoded\u001b[0m \u001b[1;33m=\u001b[0m \u001b[0mbytes\u001b[0m\u001b[1;33m(\u001b[0m\u001b[0mmybunch\u001b[0m\u001b[1;33m[\u001b[0m\u001b[1;34m\"content\"\u001b[0m\u001b[1;33m]\u001b[0m\u001b[1;33m)\u001b[0m\u001b[1;33m\u001b[0m\u001b[1;33m\u001b[0m\u001b[0m\n\u001b[0m",
      "\u001b[1;31mTypeError\u001b[0m: string indices must be integers"
     ]
    }
   ],
   "source": []
  },
  {
   "cell_type": "code",
   "execution_count": null,
   "metadata": {},
   "outputs": [],
   "source": []
  }
 ],
 "metadata": {
  "kernelspec": {
   "display_name": "Python 3",
   "language": "python",
   "name": "python3"
  },
  "language_info": {
   "codemirror_mode": {
    "name": "ipython",
    "version": 3
   },
   "file_extension": ".py",
   "mimetype": "text/x-python",
   "name": "python",
   "nbconvert_exporter": "python",
   "pygments_lexer": "ipython3",
   "version": "3.8.0"
  }
 },
 "nbformat": 4,
 "nbformat_minor": 2
}
